{
 "cells": [
  {
   "cell_type": "markdown",
   "id": "1ec0678b-efef-48c7-9672-4d0aa46c33fc",
   "metadata": {},
   "source": [
    "# Testing: The Stanford Natural Language Inference (SNLI) Corpus"
   ]
  },
  {
   "cell_type": "code",
   "execution_count": 1,
   "id": "6a433e3d-0132-4dd2-ade9-5b2dd45a11e7",
   "metadata": {
    "tags": []
   },
   "outputs": [],
   "source": [
    "import json"
   ]
  },
  {
   "cell_type": "code",
   "execution_count": 4,
   "id": "37d05f1a-dfef-43c3-85c4-e3eff595edac",
   "metadata": {
    "tags": []
   },
   "outputs": [],
   "source": [
    "# dataset path\n",
    "# PATH = '/Documents/in-work/datasets/snli_1.0/snli_1.0'\n",
    "PATH = './'"
   ]
  },
  {
   "cell_type": "code",
   "execution_count": 10,
   "id": "8bc4c6bd-abc8-4bcb-aa60-1daa85c9793e",
   "metadata": {
    "tags": []
   },
   "outputs": [],
   "source": [
    "\n",
    "with open(PATH + 'snli_1.0_test.jsonl', 'r') as file:\n",
    "    test_ds = [json.loads(jline) for jline in list(file)]"
   ]
  },
  {
   "cell_type": "code",
   "execution_count": 25,
   "id": "d1db9761-aa2d-43e1-8bfe-80ead25501e4",
   "metadata": {
    "tags": []
   },
   "outputs": [
    {
     "data": {
      "text/plain": [
       "{'annotator_labels': ['entailment',\n",
       "  'entailment',\n",
       "  'entailment',\n",
       "  'neutral',\n",
       "  'entailment'],\n",
       " 'captionID': '2677109430.jpg#1',\n",
       " 'gold_label': 'entailment',\n",
       " 'pairID': '2677109430.jpg#1r1e',\n",
       " 'sentence1': 'This church choir sings to the masses as they sing joyous songs from the book at a church.',\n",
       " 'sentence1_binary_parse': '( ( This ( church choir ) ) ( ( ( sings ( to ( the masses ) ) ) ( as ( they ( ( sing ( joyous songs ) ) ( from ( ( the book ) ( at ( a church ) ) ) ) ) ) ) ) . ) )',\n",
       " 'sentence1_parse': '(ROOT (S (NP (DT This) (NN church) (NN choir)) (VP (VBZ sings) (PP (TO to) (NP (DT the) (NNS masses))) (SBAR (IN as) (S (NP (PRP they)) (VP (VBP sing) (NP (JJ joyous) (NNS songs)) (PP (IN from) (NP (NP (DT the) (NN book)) (PP (IN at) (NP (DT a) (NN church))))))))) (. .)))',\n",
       " 'sentence2': 'The church is filled with song.',\n",
       " 'sentence2_binary_parse': '( ( The church ) ( ( is ( filled ( with song ) ) ) . ) )',\n",
       " 'sentence2_parse': '(ROOT (S (NP (DT The) (NN church)) (VP (VBZ is) (VP (VBN filled) (PP (IN with) (NP (NN song))))) (. .)))'}"
      ]
     },
     "execution_count": 25,
     "metadata": {},
     "output_type": "execute_result"
    }
   ],
   "source": [
    "idx = 1\n",
    "#class==gold_label#\n",
    "class_label = test_ds[idx]['gold_label'] # must tokenize 0 = contradiction, 1 =  neutral, 2 = entailment\n",
    "sentence_1 = test_ds[idx]['sentence1']\n",
    "sentence_2 = test_ds[idx]['sentence2']\n",
    "test_ds[idx]"
   ]
  },
  {
   "cell_type": "code",
   "execution_count": null,
   "id": "ea8556e4-8683-4ab3-bd18-0c446de843af",
   "metadata": {},
   "outputs": [],
   "source": []
  }
 ],
 "metadata": {
  "kernelspec": {
   "display_name": "Python 3 (ipykernel)",
   "language": "python",
   "name": "python3"
  },
  "language_info": {
   "codemirror_mode": {
    "name": "ipython",
    "version": 3
   },
   "file_extension": ".py",
   "mimetype": "text/x-python",
   "name": "python",
   "nbconvert_exporter": "python",
   "pygments_lexer": "ipython3",
   "version": "3.10.10+"
  }
 },
 "nbformat": 4,
 "nbformat_minor": 5
}
